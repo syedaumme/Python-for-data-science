{
 "cells": [
  {
   "cell_type": "markdown",
   "id": "d9fcd52c",
   "metadata": {},
   "source": [
    "## Descriptive Statistics:"
   ]
  },
  {
   "cell_type": "markdown",
   "id": "cec2ac10",
   "metadata": {},
   "source": [
    "### Types of data\n",
    "1. numeical data :Numerical data consists of values that can be expressed as numbers. This type of data can further be divided into two subtypes: discrete and continuous.\n",
    "   1. discrete data:Discrete data consists of distinct, separate values that are typically counted and are often whole numbers. These values cannot take on any value within a specific range. Examples include the number of students in a class, the count of cars in a parking lot, or the number of goals scored in a soccer game.\n",
    "   2. continuous:Continuous data consists of values that can take on any real number within a certain range. These values are typically measured and can be represented as decimals or fractions. Examples include height, weight, temperature, or time. Continuous data can be divided into smaller and smaller intervals, making it possible to have values in between the defined measurements.\n",
    "2. categorical data:Categorical data represents groups or categories, and the values are labels or names that do not have a numerical meaning. Categorical data can be further divided into nominal and ordinal data.\n",
    "3. ordinal data:Ordinal data also represents categories, but the categories have a specific order or ranking. However, the differences between the categories are not necessarily uniform or quantifiable. Examples of ordinal data include educational levels (e.g., high school, bachelor's degree, master's degree) or customer satisfaction ratings (e.g., very unsatisfied, neutral, very satisfied)."
   ]
  },
  {
   "cell_type": "markdown",
   "id": "80432a61",
   "metadata": {},
   "source": [
    "### MEASURES IN DESCRIPTIVE  STATISTICS"
   ]
  },
  {
   "cell_type": "markdown",
   "id": "fff13e6b",
   "metadata": {},
   "source": [
    "1. Mean: Average of all the values\n",
    "2. Median:Middle value of a dataset which is in increasing order.\n",
    "   in case of even numbered data,take the sum of middle two numbers and divide by two\n",
    "3. Mode:Value that appears most of the time in a dataset\n",
    "4. Standard deviation : How much the value deviates/ differs from the mean value \n",
    " less std deviation means the points are closer to the mean\n",
    " more std deviation means the points are farther to the mean\n",
    "5. Variance : it is the average of squared deviation between the points\n",
    "6. Correlation : measure of relationship between two variables\n",
    "1. positive correlation : indicates direct relationship\n",
    "2. negative correlation : indicates inverse relationship"
   ]
  },
  {
   "cell_type": "code",
   "execution_count": 5,
   "id": "64ff40fe",
   "metadata": {},
   "outputs": [
    {
     "data": {
      "text/html": [
       "<div>\n",
       "<style scoped>\n",
       "    .dataframe tbody tr th:only-of-type {\n",
       "        vertical-align: middle;\n",
       "    }\n",
       "\n",
       "    .dataframe tbody tr th {\n",
       "        vertical-align: top;\n",
       "    }\n",
       "\n",
       "    .dataframe thead th {\n",
       "        text-align: right;\n",
       "    }\n",
       "</style>\n",
       "<table border=\"1\" class=\"dataframe\">\n",
       "  <thead>\n",
       "    <tr style=\"text-align: right;\">\n",
       "      <th></th>\n",
       "      <th>name</th>\n",
       "      <th>age</th>\n",
       "      <th>country</th>\n",
       "      <th>gender</th>\n",
       "    </tr>\n",
       "  </thead>\n",
       "  <tbody>\n",
       "    <tr>\n",
       "      <th>0</th>\n",
       "      <td>john</td>\n",
       "      <td>23</td>\n",
       "      <td>germany</td>\n",
       "      <td>M</td>\n",
       "    </tr>\n",
       "    <tr>\n",
       "      <th>1</th>\n",
       "      <td>sophie</td>\n",
       "      <td>33</td>\n",
       "      <td>england</td>\n",
       "      <td>F</td>\n",
       "    </tr>\n",
       "    <tr>\n",
       "      <th>2</th>\n",
       "      <td>catherine</td>\n",
       "      <td>26</td>\n",
       "      <td>US</td>\n",
       "      <td>F</td>\n",
       "    </tr>\n",
       "    <tr>\n",
       "      <th>3</th>\n",
       "      <td>paul</td>\n",
       "      <td>3</td>\n",
       "      <td>India</td>\n",
       "      <td>M</td>\n",
       "    </tr>\n",
       "    <tr>\n",
       "      <th>4</th>\n",
       "      <td>peter</td>\n",
       "      <td>31</td>\n",
       "      <td>Russia</td>\n",
       "      <td>M</td>\n",
       "    </tr>\n",
       "    <tr>\n",
       "      <th>5</th>\n",
       "      <td>marial</td>\n",
       "      <td>24</td>\n",
       "      <td>Scotland</td>\n",
       "      <td>F</td>\n",
       "    </tr>\n",
       "    <tr>\n",
       "      <th>6</th>\n",
       "      <td>maxim</td>\n",
       "      <td>11</td>\n",
       "      <td>Sweden</td>\n",
       "      <td>M</td>\n",
       "    </tr>\n",
       "    <tr>\n",
       "      <th>7</th>\n",
       "      <td>george</td>\n",
       "      <td>30</td>\n",
       "      <td>Netherlands</td>\n",
       "      <td>F</td>\n",
       "    </tr>\n",
       "    <tr>\n",
       "      <th>8</th>\n",
       "      <td>grigor</td>\n",
       "      <td>31</td>\n",
       "      <td>south korea</td>\n",
       "      <td>M</td>\n",
       "    </tr>\n",
       "  </tbody>\n",
       "</table>\n",
       "</div>"
      ],
      "text/plain": [
       "        name  age      country gender\n",
       "0       john   23      germany      M\n",
       "1     sophie   33      england      F\n",
       "2  catherine   26           US      F\n",
       "3       paul    3        India      M\n",
       "4      peter   31       Russia      M\n",
       "5     marial   24     Scotland      F\n",
       "6      maxim   11       Sweden      M\n",
       "7     george   30  Netherlands      F\n",
       "8     grigor   31  south korea      M"
      ]
     },
     "execution_count": 5,
     "metadata": {},
     "output_type": "execute_result"
    }
   ],
   "source": [
    "import pandas as pd\n",
    "df=pd.read_csv('D:\\data.csv')\n",
    "df"
   ]
  },
  {
   "cell_type": "code",
   "execution_count": 8,
   "id": "3c755848",
   "metadata": {},
   "outputs": [
    {
     "data": {
      "text/plain": [
       "23.555555555555557"
      ]
     },
     "execution_count": 8,
     "metadata": {},
     "output_type": "execute_result"
    }
   ],
   "source": [
    "df['age'].mean()"
   ]
  },
  {
   "cell_type": "code",
   "execution_count": 9,
   "id": "15a886d5",
   "metadata": {},
   "outputs": [
    {
     "data": {
      "text/html": [
       "<div>\n",
       "<style scoped>\n",
       "    .dataframe tbody tr th:only-of-type {\n",
       "        vertical-align: middle;\n",
       "    }\n",
       "\n",
       "    .dataframe tbody tr th {\n",
       "        vertical-align: top;\n",
       "    }\n",
       "\n",
       "    .dataframe thead th {\n",
       "        text-align: right;\n",
       "    }\n",
       "</style>\n",
       "<table border=\"1\" class=\"dataframe\">\n",
       "  <thead>\n",
       "    <tr style=\"text-align: right;\">\n",
       "      <th></th>\n",
       "      <th>name</th>\n",
       "      <th>age</th>\n",
       "      <th>country</th>\n",
       "      <th>gender</th>\n",
       "    </tr>\n",
       "  </thead>\n",
       "  <tbody>\n",
       "    <tr>\n",
       "      <th>0</th>\n",
       "      <td>catherine</td>\n",
       "      <td>31.0</td>\n",
       "      <td>India</td>\n",
       "      <td>M</td>\n",
       "    </tr>\n",
       "    <tr>\n",
       "      <th>1</th>\n",
       "      <td>george</td>\n",
       "      <td>NaN</td>\n",
       "      <td>Netherlands</td>\n",
       "      <td>NaN</td>\n",
       "    </tr>\n",
       "    <tr>\n",
       "      <th>2</th>\n",
       "      <td>grigor</td>\n",
       "      <td>NaN</td>\n",
       "      <td>Russia</td>\n",
       "      <td>NaN</td>\n",
       "    </tr>\n",
       "    <tr>\n",
       "      <th>3</th>\n",
       "      <td>john</td>\n",
       "      <td>NaN</td>\n",
       "      <td>Scotland</td>\n",
       "      <td>NaN</td>\n",
       "    </tr>\n",
       "    <tr>\n",
       "      <th>4</th>\n",
       "      <td>marial</td>\n",
       "      <td>NaN</td>\n",
       "      <td>Sweden</td>\n",
       "      <td>NaN</td>\n",
       "    </tr>\n",
       "    <tr>\n",
       "      <th>5</th>\n",
       "      <td>maxim</td>\n",
       "      <td>NaN</td>\n",
       "      <td>US</td>\n",
       "      <td>NaN</td>\n",
       "    </tr>\n",
       "    <tr>\n",
       "      <th>6</th>\n",
       "      <td>paul</td>\n",
       "      <td>NaN</td>\n",
       "      <td>england</td>\n",
       "      <td>NaN</td>\n",
       "    </tr>\n",
       "    <tr>\n",
       "      <th>7</th>\n",
       "      <td>peter</td>\n",
       "      <td>NaN</td>\n",
       "      <td>germany</td>\n",
       "      <td>NaN</td>\n",
       "    </tr>\n",
       "    <tr>\n",
       "      <th>8</th>\n",
       "      <td>sophie</td>\n",
       "      <td>NaN</td>\n",
       "      <td>south korea</td>\n",
       "      <td>NaN</td>\n",
       "    </tr>\n",
       "  </tbody>\n",
       "</table>\n",
       "</div>"
      ],
      "text/plain": [
       "        name   age      country gender\n",
       "0  catherine  31.0        India      M\n",
       "1     george   NaN  Netherlands    NaN\n",
       "2     grigor   NaN       Russia    NaN\n",
       "3       john   NaN     Scotland    NaN\n",
       "4     marial   NaN       Sweden    NaN\n",
       "5      maxim   NaN           US    NaN\n",
       "6       paul   NaN      england    NaN\n",
       "7      peter   NaN      germany    NaN\n",
       "8     sophie   NaN  south korea    NaN"
      ]
     },
     "execution_count": 9,
     "metadata": {},
     "output_type": "execute_result"
    }
   ],
   "source": [
    "df.mode()"
   ]
  },
  {
   "cell_type": "code",
   "execution_count": 11,
   "id": "514ed1ca",
   "metadata": {},
   "outputs": [
    {
     "data": {
      "text/plain": [
       "103.52777777777779"
      ]
     },
     "execution_count": 11,
     "metadata": {},
     "output_type": "execute_result"
    }
   ],
   "source": [
    "df['age'].var()  #variance"
   ]
  },
  {
   "cell_type": "code",
   "execution_count": 12,
   "id": "b4ce11e3",
   "metadata": {},
   "outputs": [
    {
     "data": {
      "text/plain": [
       "10.174860086398132"
      ]
     },
     "execution_count": 12,
     "metadata": {},
     "output_type": "execute_result"
    }
   ],
   "source": [
    "df['age'].std()  #std deviation"
   ]
  },
  {
   "cell_type": "code",
   "execution_count": 13,
   "id": "221b46d6",
   "metadata": {},
   "outputs": [
    {
     "data": {
      "text/html": [
       "<div>\n",
       "<style scoped>\n",
       "    .dataframe tbody tr th:only-of-type {\n",
       "        vertical-align: middle;\n",
       "    }\n",
       "\n",
       "    .dataframe tbody tr th {\n",
       "        vertical-align: top;\n",
       "    }\n",
       "\n",
       "    .dataframe thead th {\n",
       "        text-align: right;\n",
       "    }\n",
       "</style>\n",
       "<table border=\"1\" class=\"dataframe\">\n",
       "  <thead>\n",
       "    <tr style=\"text-align: right;\">\n",
       "      <th></th>\n",
       "      <th>name</th>\n",
       "      <th>age</th>\n",
       "      <th>country</th>\n",
       "      <th>gender</th>\n",
       "    </tr>\n",
       "  </thead>\n",
       "  <tbody>\n",
       "    <tr>\n",
       "      <th>0</th>\n",
       "      <td>john</td>\n",
       "      <td>23</td>\n",
       "      <td>germany</td>\n",
       "      <td>M</td>\n",
       "    </tr>\n",
       "    <tr>\n",
       "      <th>1</th>\n",
       "      <td>sophie</td>\n",
       "      <td>33</td>\n",
       "      <td>england</td>\n",
       "      <td>F</td>\n",
       "    </tr>\n",
       "    <tr>\n",
       "      <th>2</th>\n",
       "      <td>catherine</td>\n",
       "      <td>26</td>\n",
       "      <td>US</td>\n",
       "      <td>F</td>\n",
       "    </tr>\n",
       "    <tr>\n",
       "      <th>4</th>\n",
       "      <td>peter</td>\n",
       "      <td>31</td>\n",
       "      <td>Russia</td>\n",
       "      <td>M</td>\n",
       "    </tr>\n",
       "    <tr>\n",
       "      <th>5</th>\n",
       "      <td>marial</td>\n",
       "      <td>24</td>\n",
       "      <td>Scotland</td>\n",
       "      <td>F</td>\n",
       "    </tr>\n",
       "    <tr>\n",
       "      <th>6</th>\n",
       "      <td>maxim</td>\n",
       "      <td>11</td>\n",
       "      <td>Sweden</td>\n",
       "      <td>M</td>\n",
       "    </tr>\n",
       "    <tr>\n",
       "      <th>7</th>\n",
       "      <td>george</td>\n",
       "      <td>30</td>\n",
       "      <td>Netherlands</td>\n",
       "      <td>F</td>\n",
       "    </tr>\n",
       "    <tr>\n",
       "      <th>8</th>\n",
       "      <td>grigor</td>\n",
       "      <td>31</td>\n",
       "      <td>south korea</td>\n",
       "      <td>M</td>\n",
       "    </tr>\n",
       "  </tbody>\n",
       "</table>\n",
       "</div>"
      ],
      "text/plain": [
       "        name  age      country gender\n",
       "0       john   23      germany      M\n",
       "1     sophie   33      england      F\n",
       "2  catherine   26           US      F\n",
       "4      peter   31       Russia      M\n",
       "5     marial   24     Scotland      F\n",
       "6      maxim   11       Sweden      M\n",
       "7     george   30  Netherlands      F\n",
       "8     grigor   31  south korea      M"
      ]
     },
     "execution_count": 13,
     "metadata": {},
     "output_type": "execute_result"
    }
   ],
   "source": [
    "df[df['age']>(df['age'].std())]"
   ]
  },
  {
   "cell_type": "code",
   "execution_count": 14,
   "id": "74d95dc0",
   "metadata": {},
   "outputs": [
    {
     "data": {
      "text/plain": [
       "26.0"
      ]
     },
     "execution_count": 14,
     "metadata": {},
     "output_type": "execute_result"
    }
   ],
   "source": [
    "df['age'].median() #median"
   ]
  },
  {
   "cell_type": "code",
   "execution_count": 19,
   "id": "6d3ae2a0",
   "metadata": {},
   "outputs": [
    {
     "name": "stderr",
     "output_type": "stream",
     "text": [
      "C:\\Users\\HP\\AppData\\Local\\Temp\\ipykernel_7172\\3045766373.py:2: FutureWarning: The default value of numeric_only in DataFrame.corr is deprecated. In a future version, it will default to False. Select only valid columns or specify the value of numeric_only to silence this warning.\n",
      "  df.corr()\n"
     ]
    },
    {
     "data": {
      "text/html": [
       "<div>\n",
       "<style scoped>\n",
       "    .dataframe tbody tr th:only-of-type {\n",
       "        vertical-align: middle;\n",
       "    }\n",
       "\n",
       "    .dataframe tbody tr th {\n",
       "        vertical-align: top;\n",
       "    }\n",
       "\n",
       "    .dataframe thead th {\n",
       "        text-align: right;\n",
       "    }\n",
       "</style>\n",
       "<table border=\"1\" class=\"dataframe\">\n",
       "  <thead>\n",
       "    <tr style=\"text-align: right;\">\n",
       "      <th></th>\n",
       "      <th>age</th>\n",
       "    </tr>\n",
       "  </thead>\n",
       "  <tbody>\n",
       "    <tr>\n",
       "      <th>age</th>\n",
       "      <td>1.0</td>\n",
       "    </tr>\n",
       "  </tbody>\n",
       "</table>\n",
       "</div>"
      ],
      "text/plain": [
       "     age\n",
       "age  1.0"
      ]
     },
     "execution_count": 19,
     "metadata": {},
     "output_type": "execute_result"
    }
   ],
   "source": [
    "# correlation\n",
    "df.corr()"
   ]
  },
  {
   "cell_type": "markdown",
   "id": "fc1fd5c3",
   "metadata": {},
   "source": []
  }
 ],
 "metadata": {
  "kernelspec": {
   "display_name": "Python 3 (ipykernel)",
   "language": "python",
   "name": "python3"
  },
  "language_info": {
   "codemirror_mode": {
    "name": "ipython",
    "version": 3
   },
   "file_extension": ".py",
   "mimetype": "text/x-python",
   "name": "python",
   "nbconvert_exporter": "python",
   "pygments_lexer": "ipython3",
   "version": "3.11.4"
  }
 },
 "nbformat": 4,
 "nbformat_minor": 5
}
