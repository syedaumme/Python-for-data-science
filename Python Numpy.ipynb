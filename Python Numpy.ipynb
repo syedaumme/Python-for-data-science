{
 "cells": [
  {
   "cell_type": "markdown",
   "id": "6d9d14a7",
   "metadata": {},
   "source": [
    "## Numpy:\n",
    "\n"
   ]
  },
  {
   "cell_type": "markdown",
   "id": "1ef8e526",
   "metadata": {},
   "source": [
    "### 1-D ARRAYS:"
   ]
  },
  {
   "cell_type": "markdown",
   "id": "6cbac9e8",
   "metadata": {},
   "source": [
    "\n",
    "#### 1) importing numpy library :"
   ]
  },
  {
   "cell_type": "code",
   "execution_count": null,
   "id": "3e59fc1e",
   "metadata": {},
   "outputs": [],
   "source": [
    "import numpy as np"
   ]
  },
  {
   "cell_type": "code",
   "execution_count": 4,
   "id": "a315dd25",
   "metadata": {},
   "outputs": [],
   "source": [
    "x=[100,200,300]"
   ]
  },
  {
   "cell_type": "code",
   "execution_count": 5,
   "id": "1a75eeec",
   "metadata": {},
   "outputs": [
    {
     "data": {
      "text/plain": [
       "list"
      ]
     },
     "execution_count": 5,
     "metadata": {},
     "output_type": "execute_result"
    }
   ],
   "source": [
    "type(x)"
   ]
  },
  {
   "cell_type": "markdown",
   "id": "da7a25a0",
   "metadata": {},
   "source": [
    "#### 2) to convert a list into array:"
   ]
  },
  {
   "cell_type": "code",
   "execution_count": 6,
   "id": "a2c012ee",
   "metadata": {},
   "outputs": [],
   "source": [
    "y=np.array(x)"
   ]
  },
  {
   "cell_type": "code",
   "execution_count": 7,
   "id": "54400402",
   "metadata": {},
   "outputs": [
    {
     "data": {
      "text/plain": [
       "array([100, 200, 300])"
      ]
     },
     "execution_count": 7,
     "metadata": {},
     "output_type": "execute_result"
    }
   ],
   "source": [
    "y"
   ]
  },
  {
   "cell_type": "code",
   "execution_count": 8,
   "id": "c2e5ede6",
   "metadata": {},
   "outputs": [
    {
     "data": {
      "text/plain": [
       "numpy.ndarray"
      ]
     },
     "execution_count": 8,
     "metadata": {},
     "output_type": "execute_result"
    }
   ],
   "source": [
    "type(y)"
   ]
  },
  {
   "cell_type": "markdown",
   "id": "b5f9adcf",
   "metadata": {},
   "source": [
    "#### 3) Mathematical operations:"
   ]
  },
  {
   "cell_type": "code",
   "execution_count": 10,
   "id": "8ef1cfa6",
   "metadata": {},
   "outputs": [
    {
     "data": {
      "text/plain": [
       "[100, 200, 300, 100, 200, 300]"
      ]
     },
     "execution_count": 10,
     "metadata": {},
     "output_type": "execute_result"
    }
   ],
   "source": [
    "x+x"
   ]
  },
  {
   "cell_type": "code",
   "execution_count": 13,
   "id": "53cc069a",
   "metadata": {},
   "outputs": [
    {
     "data": {
      "text/plain": [
       "[100, 200, 300, 100, 200, 300, 100, 200, 300]"
      ]
     },
     "execution_count": 13,
     "metadata": {},
     "output_type": "execute_result"
    }
   ],
   "source": [
    "x*3"
   ]
  },
  {
   "cell_type": "code",
   "execution_count": 14,
   "id": "0a8093ee",
   "metadata": {},
   "outputs": [
    {
     "data": {
      "text/plain": [
       "array([102, 202, 302])"
      ]
     },
     "execution_count": 14,
     "metadata": {},
     "output_type": "execute_result"
    }
   ],
   "source": [
    "y+2"
   ]
  },
  {
   "cell_type": "code",
   "execution_count": 15,
   "id": "0a6d7f46",
   "metadata": {},
   "outputs": [
    {
     "data": {
      "text/plain": [
       "array([200, 400, 600])"
      ]
     },
     "execution_count": 15,
     "metadata": {},
     "output_type": "execute_result"
    }
   ],
   "source": [
    "y*2"
   ]
  },
  {
   "cell_type": "markdown",
   "id": "2088f3b3",
   "metadata": {},
   "source": [
    "#### 4)Indexing and Slicing:"
   ]
  },
  {
   "cell_type": "markdown",
   "id": "d7df1594",
   "metadata": {},
   "source": [
    "> Indexing and slicing of numpy arrays remains same as normal arrays"
   ]
  },
  {
   "cell_type": "markdown",
   "id": "0439b006",
   "metadata": {},
   "source": [
    "#### 5) Logical Indexing:\n",
    "\n",
    "> logical operators can be used with array to return boolean values"
   ]
  },
  {
   "cell_type": "code",
   "execution_count": 16,
   "id": "f4b6d6c0",
   "metadata": {},
   "outputs": [
    {
     "data": {
      "text/plain": [
       "array([100, 200, 300])"
      ]
     },
     "execution_count": 16,
     "metadata": {},
     "output_type": "execute_result"
    }
   ],
   "source": [
    "y"
   ]
  },
  {
   "cell_type": "code",
   "execution_count": 17,
   "id": "1bd736ec",
   "metadata": {},
   "outputs": [
    {
     "data": {
      "text/plain": [
       "array([ True, False, False])"
      ]
     },
     "execution_count": 17,
     "metadata": {},
     "output_type": "execute_result"
    }
   ],
   "source": [
    "y<200"
   ]
  },
  {
   "cell_type": "code",
   "execution_count": 18,
   "id": "aa11007f",
   "metadata": {},
   "outputs": [
    {
     "data": {
      "text/plain": [
       "array([ True, False,  True])"
      ]
     },
     "execution_count": 18,
     "metadata": {},
     "output_type": "execute_result"
    }
   ],
   "source": [
    "y!=200"
   ]
  },
  {
   "cell_type": "code",
   "execution_count": 19,
   "id": "6f00b011",
   "metadata": {},
   "outputs": [
    {
     "data": {
      "text/plain": [
       "array([ True,  True,  True])"
      ]
     },
     "execution_count": 19,
     "metadata": {},
     "output_type": "execute_result"
    }
   ],
   "source": [
    "y>=0"
   ]
  },
  {
   "cell_type": "code",
   "execution_count": 21,
   "id": "f288a9a5",
   "metadata": {},
   "outputs": [
    {
     "data": {
      "text/plain": [
       "array([100, 200])"
      ]
     },
     "execution_count": 21,
     "metadata": {},
     "output_type": "execute_result"
    }
   ],
   "source": [
    "# to get the true values and not boolean ones:\n",
    "y[y<=200]"
   ]
  },
  {
   "cell_type": "markdown",
   "id": "e7057335",
   "metadata": {},
   "source": [
    "### 2-D ARRAYS"
   ]
  },
  {
   "cell_type": "code",
   "execution_count": 35,
   "id": "f49e5118",
   "metadata": {},
   "outputs": [
    {
     "data": {
      "text/plain": [
       "[[0, 1, 2, 3, 4, 5],\n",
       " [0, 1, 2, 3, 4, 5, 6, 7, 8],\n",
       " [16, 17, 18, 19, 20, 21, 22, 23]]"
      ]
     },
     "execution_count": 35,
     "metadata": {},
     "output_type": "execute_result"
    }
   ],
   "source": [
    "import numpy as np\n",
    "x=[list(range(0,6)),list(range(0,9)),list(range(16,24))]\n",
    "x"
   ]
  },
  {
   "cell_type": "code",
   "execution_count": 37,
   "id": "9389a119",
   "metadata": {},
   "outputs": [
    {
     "data": {
      "text/plain": [
       "list"
      ]
     },
     "execution_count": 37,
     "metadata": {},
     "output_type": "execute_result"
    }
   ],
   "source": [
    "type(x)"
   ]
  },
  {
   "cell_type": "code",
   "execution_count": 44,
   "id": "36812fc2",
   "metadata": {},
   "outputs": [],
   "source": [
    "x=[0,1,2,3]"
   ]
  },
  {
   "cell_type": "code",
   "execution_count": 45,
   "id": "7deed5ef",
   "metadata": {},
   "outputs": [
    {
     "data": {
      "text/plain": [
       "array([0, 1, 2, 3])"
      ]
     },
     "execution_count": 45,
     "metadata": {},
     "output_type": "execute_result"
    }
   ],
   "source": [
    "np.array(x)"
   ]
  },
  {
   "cell_type": "markdown",
   "id": "c1b35b5c",
   "metadata": {},
   "source": [
    "> 2d indexing remains same\n",
    ">>>x=[[1,2,3],[4,5,6]\n",
    "\n",
    ">>>x[0][2]\n",
    "\n",
    ">>>>>o/p-->3"
   ]
  },
  {
   "cell_type": "markdown",
   "id": "2405c79d",
   "metadata": {},
   "source": [
    "#### 2) slicing"
   ]
  },
  {
   "cell_type": "markdown",
   "id": "6402e0bb",
   "metadata": {},
   "source": [
    ">> slicing remains same "
   ]
  },
  {
   "cell_type": "code",
   "execution_count": 49,
   "id": "0ee28243",
   "metadata": {},
   "outputs": [],
   "source": [
    "x=[[1,2,3],[2,3,4]]\n"
   ]
  },
  {
   "cell_type": "code",
   "execution_count": 48,
   "id": "39a464f4",
   "metadata": {},
   "outputs": [
    {
     "ename": "TypeError",
     "evalue": "list indices must be integers or slices, not tuple",
     "output_type": "error",
     "traceback": [
      "\u001b[1;31m---------------------------------------------------------------------------\u001b[0m",
      "\u001b[1;31mTypeError\u001b[0m                                 Traceback (most recent call last)",
      "Cell \u001b[1;32mIn[48], line 1\u001b[0m\n\u001b[1;32m----> 1\u001b[0m x[\u001b[38;5;241m0\u001b[39m:\u001b[38;5;241m2\u001b[39m,:\u001b[38;5;241m-\u001b[39m\u001b[38;5;241m1\u001b[39m]\n",
      "\u001b[1;31mTypeError\u001b[0m: list indices must be integers or slices, not tuple"
     ]
    }
   ],
   "source": [
    "x[0:2,1:3]"
   ]
  },
  {
   "cell_type": "markdown",
   "id": "d4a75e9b",
   "metadata": {},
   "source": [
    "### Functions in numpy\n",
    "\n",
    "\n",
    "-->creating an array:\n",
    "\n",
    "1. arange() #these are functions\n",
    "2. linspace()\n",
    "3. logspace()\n",
    "\n",
    "-->reshaping an array:\n",
    "1. .reshape()  #it ia a method (coz dot operator is used)\n",
    "2. .size  #it is an attribute(thus doesnt have parenthesis)\n",
    "3. .shape\n",
    "\n",
    "--> checking truth value of an array:\n",
    "1. .any()\n",
    "2. .all()\n",
    "\n",
    "--> transpose\n",
    "\n",
    "--> statistical methods:\n",
    "1. .sum()\n",
    "2. .mean()\n",
    "3. .min()\n",
    "4. .max()\n",
    "5. .std()\n",
    "6. .prod()"
   ]
  },
  {
   "cell_type": "markdown",
   "id": "929fd3c6",
   "metadata": {},
   "source": [
    "#### creating an array:"
   ]
  },
  {
   "cell_type": "code",
   "execution_count": 51,
   "id": "4635722a",
   "metadata": {},
   "outputs": [
    {
     "data": {
      "text/plain": [
       "array([0, 1, 2, 3, 4])"
      ]
     },
     "execution_count": 51,
     "metadata": {},
     "output_type": "execute_result"
    }
   ],
   "source": [
    "np.arange(5)"
   ]
  },
  {
   "cell_type": "code",
   "execution_count": 52,
   "id": "8562bf64",
   "metadata": {},
   "outputs": [
    {
     "data": {
      "text/plain": [
       "array([4, 5, 6])"
      ]
     },
     "execution_count": 52,
     "metadata": {},
     "output_type": "execute_result"
    }
   ],
   "source": [
    "np.arange(4,7)  #arange(starting point,ending point)"
   ]
  },
  {
   "cell_type": "code",
   "execution_count": 53,
   "id": "fffd3ad4",
   "metadata": {},
   "outputs": [
    {
     "data": {
      "text/plain": [
       "array([ 3,  5,  7,  9, 11, 13, 15, 17, 19, 21, 23, 25, 27, 29])"
      ]
     },
     "execution_count": 53,
     "metadata": {},
     "output_type": "execute_result"
    }
   ],
   "source": [
    "np.arange(3,30,2)  #arange(start,stop,skip)"
   ]
  },
  {
   "cell_type": "code",
   "execution_count": 55,
   "id": "53f8156c",
   "metadata": {},
   "outputs": [
    {
     "data": {
      "text/plain": [
       "array([ 0.        ,  0.52631579,  1.05263158,  1.57894737,  2.10526316,\n",
       "        2.63157895,  3.15789474,  3.68421053,  4.21052632,  4.73684211,\n",
       "        5.26315789,  5.78947368,  6.31578947,  6.84210526,  7.36842105,\n",
       "        7.89473684,  8.42105263,  8.94736842,  9.47368421, 10.        ])"
      ]
     },
     "execution_count": 55,
     "metadata": {},
     "output_type": "execute_result"
    }
   ],
   "source": [
    "# gives equal spaced values between start and stop points:\n",
    "np.linspace(0,10,20)"
   ]
  },
  {
   "cell_type": "code",
   "execution_count": 59,
   "id": "528c2be0",
   "metadata": {},
   "outputs": [
    {
     "data": {
      "text/plain": [
       "array([1.00000000e+02, 2.63665090e+02, 6.95192796e+02, 1.83298071e+03,\n",
       "       4.83293024e+03, 1.27427499e+04, 3.35981829e+04, 8.85866790e+04,\n",
       "       2.33572147e+05, 6.15848211e+05, 1.62377674e+06, 4.28133240e+06,\n",
       "       1.12883789e+07, 2.97635144e+07, 7.84759970e+07, 2.06913808e+08,\n",
       "       5.45559478e+08, 1.43844989e+09, 3.79269019e+09, 1.00000000e+10])"
      ]
     },
     "execution_count": 59,
     "metadata": {},
     "output_type": "execute_result"
    }
   ],
   "source": [
    "#returns evenly spaced numbers on a log scale\n",
    "np.logspace(2,10,20)"
   ]
  },
  {
   "cell_type": "markdown",
   "id": "debb1c14",
   "metadata": {},
   "source": [
    "#### reshaping an array:"
   ]
  },
  {
   "cell_type": "code",
   "execution_count": 62,
   "id": "db0d51c9",
   "metadata": {},
   "outputs": [],
   "source": [
    "x=np.arange(12)"
   ]
  },
  {
   "cell_type": "code",
   "execution_count": 63,
   "id": "aa6e531f",
   "metadata": {},
   "outputs": [
    {
     "data": {
      "text/plain": [
       "array([ 0,  1,  2,  3,  4,  5,  6,  7,  8,  9, 10, 11])"
      ]
     },
     "execution_count": 63,
     "metadata": {},
     "output_type": "execute_result"
    }
   ],
   "source": [
    "x"
   ]
  },
  {
   "cell_type": "code",
   "execution_count": 64,
   "id": "b5928a95",
   "metadata": {},
   "outputs": [
    {
     "data": {
      "text/plain": [
       "array([[ 0,  1,  2],\n",
       "       [ 3,  4,  5],\n",
       "       [ 6,  7,  8],\n",
       "       [ 9, 10, 11]])"
      ]
     },
     "execution_count": 64,
     "metadata": {},
     "output_type": "execute_result"
    }
   ],
   "source": [
    "x.reshape(4,3)  #reshapes an array into number of rows and columns"
   ]
  },
  {
   "cell_type": "code",
   "execution_count": 69,
   "id": "69fce10f",
   "metadata": {},
   "outputs": [
    {
     "data": {
      "text/plain": [
       "array([[ 0,  1],\n",
       "       [ 2,  3],\n",
       "       [ 4,  5],\n",
       "       [ 6,  7],\n",
       "       [ 8,  9],\n",
       "       [10, 11]])"
      ]
     },
     "execution_count": 69,
     "metadata": {},
     "output_type": "execute_result"
    }
   ],
   "source": [
    "x.reshape(6,-1) #wen u dont know the number of columns will be in an array"
   ]
  },
  {
   "cell_type": "code",
   "execution_count": 70,
   "id": "dbbe9361",
   "metadata": {},
   "outputs": [
    {
     "data": {
      "text/plain": [
       "12"
      ]
     },
     "execution_count": 70,
     "metadata": {},
     "output_type": "execute_result"
    }
   ],
   "source": [
    "x.size\n"
   ]
  },
  {
   "cell_type": "code",
   "execution_count": 71,
   "id": "156e6447",
   "metadata": {},
   "outputs": [
    {
     "data": {
      "text/plain": [
       "(12,)"
      ]
     },
     "execution_count": 71,
     "metadata": {},
     "output_type": "execute_result"
    }
   ],
   "source": [
    "x.shape"
   ]
  },
  {
   "cell_type": "code",
   "execution_count": 74,
   "id": "8a310d8e",
   "metadata": {},
   "outputs": [],
   "source": [
    "x=x.reshape(4,3)"
   ]
  },
  {
   "cell_type": "code",
   "execution_count": 75,
   "id": "da7b97a0",
   "metadata": {},
   "outputs": [
    {
     "data": {
      "text/plain": [
       "(4, 3)"
      ]
     },
     "execution_count": 75,
     "metadata": {},
     "output_type": "execute_result"
    }
   ],
   "source": [
    "x.shape"
   ]
  },
  {
   "cell_type": "markdown",
   "id": "44482c74",
   "metadata": {},
   "source": [
    "#### 3. checking truth value"
   ]
  },
  {
   "cell_type": "code",
   "execution_count": 76,
   "id": "13209d04",
   "metadata": {},
   "outputs": [
    {
     "data": {
      "text/plain": [
       "array([[ 0,  1,  2],\n",
       "       [ 3,  4,  5],\n",
       "       [ 6,  7,  8],\n",
       "       [ 9, 10, 11]])"
      ]
     },
     "execution_count": 76,
     "metadata": {},
     "output_type": "execute_result"
    }
   ],
   "source": [
    "x"
   ]
  },
  {
   "cell_type": "code",
   "execution_count": 77,
   "id": "e864675f",
   "metadata": {},
   "outputs": [
    {
     "data": {
      "text/plain": [
       "True"
      ]
     },
     "execution_count": 77,
     "metadata": {},
     "output_type": "execute_result"
    }
   ],
   "source": [
    "x.any()  #checks if there is any non zero element in the array "
   ]
  },
  {
   "cell_type": "code",
   "execution_count": 79,
   "id": "6e413c94",
   "metadata": {},
   "outputs": [
    {
     "data": {
      "text/plain": [
       "False"
      ]
     },
     "execution_count": 79,
     "metadata": {},
     "output_type": "execute_result"
    }
   ],
   "source": [
    "x.all() #checks if every single element in the array not false"
   ]
  },
  {
   "cell_type": "markdown",
   "id": "44b99e85",
   "metadata": {},
   "source": [
    "#### 4) Transpose\n",
    ">change rows into columns and columns into rows"
   ]
  },
  {
   "cell_type": "code",
   "execution_count": 81,
   "id": "86cdd277",
   "metadata": {},
   "outputs": [
    {
     "data": {
      "text/plain": [
       "array([[ 0,  1,  2],\n",
       "       [ 3,  4,  5],\n",
       "       [ 6,  7,  8],\n",
       "       [ 9, 10, 11]])"
      ]
     },
     "execution_count": 81,
     "metadata": {},
     "output_type": "execute_result"
    }
   ],
   "source": [
    "x"
   ]
  },
  {
   "cell_type": "code",
   "execution_count": 86,
   "id": "19b587c1",
   "metadata": {},
   "outputs": [
    {
     "data": {
      "text/plain": [
       "array([[0],\n",
       "       [1],\n",
       "       [2],\n",
       "       [3]])"
      ]
     },
     "execution_count": 86,
     "metadata": {},
     "output_type": "execute_result"
    }
   ],
   "source": [
    "y=np.arange(4).reshape(4,1)\n",
    "y"
   ]
  },
  {
   "cell_type": "code",
   "execution_count": 88,
   "id": "4939694b",
   "metadata": {},
   "outputs": [
    {
     "data": {
      "text/plain": [
       "array([[ 0,  1,  2],\n",
       "       [ 4,  5,  6],\n",
       "       [ 8,  9, 10],\n",
       "       [12, 13, 14]])"
      ]
     },
     "execution_count": 88,
     "metadata": {},
     "output_type": "execute_result"
    }
   ],
   "source": [
    "z=x+y\n",
    "z"
   ]
  },
  {
   "cell_type": "markdown",
   "id": "8568bb17",
   "metadata": {},
   "source": [
    "#### 5) statistical methods:"
   ]
  },
  {
   "cell_type": "code",
   "execution_count": 89,
   "id": "d9d7e394",
   "metadata": {},
   "outputs": [
    {
     "data": {
      "text/plain": [
       "66"
      ]
     },
     "execution_count": 89,
     "metadata": {},
     "output_type": "execute_result"
    }
   ],
   "source": [
    "x.sum()"
   ]
  },
  {
   "cell_type": "code",
   "execution_count": 90,
   "id": "10303481",
   "metadata": {},
   "outputs": [
    {
     "data": {
      "text/plain": [
       "5.5"
      ]
     },
     "execution_count": 90,
     "metadata": {},
     "output_type": "execute_result"
    }
   ],
   "source": [
    "x.mean()"
   ]
  },
  {
   "cell_type": "code",
   "execution_count": 91,
   "id": "cfd6455f",
   "metadata": {},
   "outputs": [
    {
     "data": {
      "text/plain": [
       "0"
      ]
     },
     "execution_count": 91,
     "metadata": {},
     "output_type": "execute_result"
    }
   ],
   "source": [
    "x.min()"
   ]
  },
  {
   "cell_type": "code",
   "execution_count": 92,
   "id": "026eee3a",
   "metadata": {},
   "outputs": [
    {
     "data": {
      "text/plain": [
       "11"
      ]
     },
     "execution_count": 92,
     "metadata": {},
     "output_type": "execute_result"
    }
   ],
   "source": [
    "x.max()"
   ]
  },
  {
   "cell_type": "code",
   "execution_count": 93,
   "id": "b21be93c",
   "metadata": {},
   "outputs": [
    {
     "data": {
      "text/plain": [
       "3.452052529534663"
      ]
     },
     "execution_count": 93,
     "metadata": {},
     "output_type": "execute_result"
    }
   ],
   "source": [
    "x.std()  #standard deviation"
   ]
  },
  {
   "cell_type": "code",
   "execution_count": 95,
   "id": "2b4655a4",
   "metadata": {},
   "outputs": [
    {
     "data": {
      "text/plain": [
       "19958400"
      ]
     },
     "execution_count": 95,
     "metadata": {},
     "output_type": "execute_result"
    }
   ],
   "source": [
    "x[1:].prod()"
   ]
  },
  {
   "cell_type": "markdown",
   "id": "270d8d8c",
   "metadata": {},
   "source": [
    "### Random numbers and distributions in Numpy"
   ]
  },
  {
   "cell_type": "code",
   "execution_count": 97,
   "id": "16a36d09",
   "metadata": {},
   "outputs": [],
   "source": [
    "import numpy as np\n",
    "import matplotlib.pyplot as plt\n",
    "%matplotlib inline"
   ]
  },
  {
   "cell_type": "markdown",
   "id": "aef6e9fd",
   "metadata": {},
   "source": [
    "#### 1) Seeding \n",
    "\n",
    "In Python, \"seeding\" usually refers to setting a random number generator's initial state to a specific value. This is commonly done to ensure reproducibility in random processes."
   ]
  },
  {
   "cell_type": "code",
   "execution_count": 100,
   "id": "f0971b7f",
   "metadata": {},
   "outputs": [],
   "source": [
    "np.random.seed(42)\n"
   ]
  },
  {
   "cell_type": "code",
   "execution_count": 152,
   "id": "495822b3",
   "metadata": {},
   "outputs": [
    {
     "data": {
      "text/plain": [
       "array([[0.7590565 , 0.13251353, 0.55612689, 0.0941733 , 0.24077024,\n",
       "        0.79030715, 0.16878665, 0.00834112, 0.9480204 , 0.01120178]])"
      ]
     },
     "execution_count": 152,
     "metadata": {},
     "output_type": "execute_result"
    }
   ],
   "source": [
    "np.random.rand(1,10) #rand() function generates random numbers within the specified range\n"
   ]
  },
  {
   "cell_type": "markdown",
   "id": "458079be",
   "metadata": {},
   "source": [
    "> In this example, setting the seed to 42 ensures that random_number will always be the same every time you run the code, as long as the seed remains unchanged."
   ]
  },
  {
   "cell_type": "code",
   "execution_count": 110,
   "id": "6bc38dbc",
   "metadata": {},
   "outputs": [],
   "source": [
    "a=6\n",
    "b=12"
   ]
  },
  {
   "cell_type": "code",
   "execution_count": 113,
   "id": "1e412152",
   "metadata": {},
   "outputs": [
    {
     "data": {
      "text/plain": [
       "array([ 6.34561931,  8.31493473, 10.39937417,  6.81510505,  9.40249171])"
      ]
     },
     "execution_count": 113,
     "metadata": {},
     "output_type": "execute_result"
    }
   ],
   "source": [
    "(b-a)*np.random.rand(5)+a"
   ]
  },
  {
   "cell_type": "markdown",
   "id": "c33018b5",
   "metadata": {},
   "source": [
    "#### 2) Normal distribution"
   ]
  },
  {
   "cell_type": "code",
   "execution_count": 115,
   "id": "70ec21c3",
   "metadata": {},
   "outputs": [
    {
     "data": {
      "text/plain": [
       "array([ 0.6525833 ,  1.54401221,  0.39458121, -0.34444154, -0.97475444])"
      ]
     },
     "execution_count": 115,
     "metadata": {},
     "output_type": "execute_result"
    }
   ],
   "source": [
    "np.random.randn(5) #randn means from standard normal distribution numbers will be selected"
   ]
  },
  {
   "cell_type": "code",
   "execution_count": 116,
   "id": "1ae731cc",
   "metadata": {},
   "outputs": [],
   "source": [
    "mu=5;sigma=2"
   ]
  },
  {
   "cell_type": "code",
   "execution_count": 122,
   "id": "cc5fb39a",
   "metadata": {},
   "outputs": [
    {
     "data": {
      "text/plain": [
       "array([5.34900699, 6.11606043, 5.16340851, 6.27105851, 2.19433399])"
      ]
     },
     "execution_count": 122,
     "metadata": {},
     "output_type": "execute_result"
    }
   ],
   "source": [
    "mu+sigma*np.random.randn(5)"
   ]
  },
  {
   "cell_type": "code",
   "execution_count": 123,
   "id": "6b888a67",
   "metadata": {},
   "outputs": [],
   "source": [
    "x1=np.random.randn(10000)\n",
    "x2= mu+ sigma*np.random.randn(10000)\n"
   ]
  },
  {
   "cell_type": "code",
   "execution_count": 127,
   "id": "c0f034ea",
   "metadata": {},
   "outputs": [
    {
     "data": {
      "image/png": "[encoded data removed]",
      "text/plain": [
       "<Figure size 1000x600 with 1 Axes>"
      ]
     },
     "metadata": {},
     "output_type": "display_data"
    }
   ],
   "source": [
    "plt.figure(figsize=(10,6))\n",
    "plt.hist(x1,bins=20,alpha=0.4)\n",
    "plt.hist(x2,bins=20,alpha=0.4)\n",
    "plt.show()"
   ]
  },
  {
   "cell_type": "markdown",
   "id": "efc9a857",
   "metadata": {},
   "source": [
    "#### 3) random integers"
   ]
  },
  {
   "cell_type": "code",
   "execution_count": 129,
   "id": "8efeaf02",
   "metadata": {},
   "outputs": [
    {
     "data": {
      "text/plain": [
       "array([0, 1, 1, 0, 0, 0, 0, 0, 0, 0])"
      ]
     },
     "execution_count": 129,
     "metadata": {},
     "output_type": "execute_result"
    }
   ],
   "source": [
    "np.random.randint(2,size=10)"
   ]
  }
 ],
 "metadata": {
  "kernelspec": {
   "display_name": "Python 3 (ipykernel)",
   "language": "python",
   "name": "python3"
  },
  "language_info": {
   "codemirror_mode": {
    "name": "ipython",
    "version": 3
   },
   "file_extension": ".py",
   "mimetype": "text/x-python",
   "name": "python",
   "nbconvert_exporter": "python",
   "pygments_lexer": "ipython3",
   "version": "3.11.4"
  }
 },
 "nbformat": 4,
 "nbformat_minor": 5
}
